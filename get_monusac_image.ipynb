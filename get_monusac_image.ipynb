{
 "cells": [
  {
   "cell_type": "code",
   "execution_count": 17,
   "id": "dc47ac31",
   "metadata": {},
   "outputs": [],
   "source": [
    "import os\n",
    "import cv2"
   ]
  },
  {
   "cell_type": "code",
   "execution_count": 19,
   "id": "18e1bb72",
   "metadata": {},
   "outputs": [],
   "source": [
    "data_dir = \"../../Downloads/MoNuSAC_images_and_annotations/\"\n",
    "save_dir = \"dataset/MoNuSAC/Train/\"\n",
    "if not os.path.exists(save_dir):\n",
    "    os.mkdir(save_dir)"
   ]
  },
  {
   "cell_type": "code",
   "execution_count": 27,
   "id": "8e340502",
   "metadata": {},
   "outputs": [],
   "source": [
    "for pt_folder in os.listdir(data_dir):\n",
    "    for im in os.listdir(os.path.join(data_dir, pt_folder)):\n",
    "        if im.endswith('.tif'):\n",
    "            img = cv2.imread(os.path.join(data_dir, pt_folder) + '/' + im)\n",
    "            cv2.imwrite(save_dir + im, img)"
   ]
  }
 ],
 "metadata": {
  "kernelspec": {
   "display_name": "Python 3 (ipykernel)",
   "language": "python",
   "name": "python3"
  },
  "language_info": {
   "codemirror_mode": {
    "name": "ipython",
    "version": 3
   },
   "file_extension": ".py",
   "mimetype": "text/x-python",
   "name": "python",
   "nbconvert_exporter": "python",
   "pygments_lexer": "ipython3",
   "version": "3.9.7"
  }
 },
 "nbformat": 4,
 "nbformat_minor": 5
}
