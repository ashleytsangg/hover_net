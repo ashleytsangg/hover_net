{
 "cells": [
  {
   "cell_type": "code",
   "execution_count": 2,
   "id": "f8ea29de",
   "metadata": {},
   "outputs": [
    {
     "ename": "OSError",
     "evalue": "[WinError 87] The parameter is incorrect: '../../Documents/openslide-win64-20220811/bin'",
     "output_type": "error",
     "traceback": [
      "\u001b[1;31m---------------------------------------------------------------------------\u001b[0m",
      "\u001b[1;31mOSError\u001b[0m                                   Traceback (most recent call last)",
      "\u001b[1;32m~\\AppData\\Local\\Temp/ipykernel_24944/4006596667.py\u001b[0m in \u001b[0;36m<module>\u001b[1;34m\u001b[0m\n\u001b[0;32m     19\u001b[0m \u001b[1;32mif\u001b[0m \u001b[0mhasattr\u001b[0m\u001b[1;33m(\u001b[0m\u001b[0mos\u001b[0m\u001b[1;33m,\u001b[0m \u001b[1;34m'add_dll_directory'\u001b[0m\u001b[1;33m)\u001b[0m\u001b[1;33m:\u001b[0m\u001b[1;33m\u001b[0m\u001b[1;33m\u001b[0m\u001b[0m\n\u001b[0;32m     20\u001b[0m     \u001b[1;31m# Python >= 3.8 on Windows\u001b[0m\u001b[1;33m\u001b[0m\u001b[1;33m\u001b[0m\u001b[0m\n\u001b[1;32m---> 21\u001b[1;33m     \u001b[1;32mwith\u001b[0m \u001b[0mos\u001b[0m\u001b[1;33m.\u001b[0m\u001b[0madd_dll_directory\u001b[0m\u001b[1;33m(\u001b[0m\u001b[0mOPENSLIDE_PATH\u001b[0m\u001b[1;33m)\u001b[0m\u001b[1;33m:\u001b[0m\u001b[1;33m\u001b[0m\u001b[1;33m\u001b[0m\u001b[0m\n\u001b[0m\u001b[0;32m     22\u001b[0m         \u001b[1;32mimport\u001b[0m \u001b[0mopenslide\u001b[0m\u001b[1;33m\u001b[0m\u001b[1;33m\u001b[0m\u001b[0m\n",
      "\u001b[1;32mC:\\ProgramData\\Anaconda3\\lib\\os.py\u001b[0m in \u001b[0;36madd_dll_directory\u001b[1;34m(path)\u001b[0m\n\u001b[0;32m   1109\u001b[0m         \"\"\"\n\u001b[0;32m   1110\u001b[0m         \u001b[1;32mimport\u001b[0m \u001b[0mnt\u001b[0m\u001b[1;33m\u001b[0m\u001b[1;33m\u001b[0m\u001b[0m\n\u001b[1;32m-> 1111\u001b[1;33m         \u001b[0mcookie\u001b[0m \u001b[1;33m=\u001b[0m \u001b[0mnt\u001b[0m\u001b[1;33m.\u001b[0m\u001b[0m_add_dll_directory\u001b[0m\u001b[1;33m(\u001b[0m\u001b[0mpath\u001b[0m\u001b[1;33m)\u001b[0m\u001b[1;33m\u001b[0m\u001b[1;33m\u001b[0m\u001b[0m\n\u001b[0m\u001b[0;32m   1112\u001b[0m         return _AddedDllDirectory(\n\u001b[0;32m   1113\u001b[0m             \u001b[0mpath\u001b[0m\u001b[1;33m,\u001b[0m\u001b[1;33m\u001b[0m\u001b[1;33m\u001b[0m\u001b[0m\n",
      "\u001b[1;31mOSError\u001b[0m: [WinError 87] The parameter is incorrect: '../../Documents/openslide-win64-20220811/bin'"
     ]
    }
   ],
   "source": [
    "import os\n",
    "import cv2\n",
    "\n",
    "from xml.dom import minidom\n",
    "import numpy as np\n",
    "from glob import glob\n",
    "import matplotlib.pyplot as plt\n",
    "import scipy.io as sio\n",
    "from PIL import Image\n",
    "import scipy\n",
    "import scipy.ndimage\n",
    "from shapely.geometry import Polygon\n",
    "from skimage import draw\n",
    "import xml.etree.ElementTree as ET\n",
    "import os\n",
    "\n",
    "OPENSLIDE_PATH = \"../../Documents/openslide-win64-20220811/bin\"\n",
    "\n",
    "if hasattr(os, 'add_dll_directory'):\n",
    "    # Python >= 3.8 on Windows\n",
    "    with os.add_dll_directory(OPENSLIDE_PATH):\n",
    "        import openslide"
   ]
  },
  {
   "cell_type": "code",
   "execution_count": 3,
   "id": "ec28096e",
   "metadata": {},
   "outputs": [],
   "source": [
    "data_dir = \"../../Downloads/MoNuSAC_images_and_annotations/\"\n",
    "ann_dir = \"dataset/MonuSAC/Train/Labels/\""
   ]
  },
  {
   "cell_type": "code",
   "execution_count": null,
   "id": "ddfbfec5",
   "metadata": {},
   "outputs": [],
   "source": [
    "count = 0\n",
    "for pt_folder in os.listdir(data_dir):\n",
    "    for file in os.listdir(os.path.join(data_dir, pt_folder)):\n",
    "        gt = 0\n",
    "        if file.endswith('.xml'):\n",
    "            xml_file = os.path.join(data_dir, pt_folder) + '/' + file\n",
    "            tree = ET.parse(xml_file)\n",
    "            root = tree.getroot()\n",
    "            print(root)\n",
    "            image_name = xml_file[:-4] + '.tif'\n",
    "            print(image_name)\n",
    "            img = openslide.OpenSlide(image_name)\n",
    "            # Make into Numpy array\n",
    "            assert False\n",
    "\n",
    "            #Generate binary mask for each cell-type                         \n",
    "            for k in range(len(root)):\n",
    "                label = [x.attrib['Name'] for x in root[k][0]]\n",
    "                label = label[0]\n",
    "\n",
    "                for child in root[k]:\n",
    "                    for x in child:\n",
    "                        r = x.tag\n",
    "                        if r == 'Attribute':\n",
    "                            count = count+1\n",
    "                            print(count)\n",
    "                            label = x.attrib['Name']\n",
    "                            \n",
    "                            inst_map = np.transpose(np.zeros((img.read_region((0,0),0,img.level_dimensions[0]).size))) \n",
    "                            print(label)\n",
    "\n",
    "                        if r == 'Region':\n",
    "                            regions = []\n",
    "                            vertices = x[1]\n",
    "                            coords = np.zeros((len(vertices), 2))\n",
    "                            for i, vertex in enumerate(vertices):\n",
    "                                coords[i][0] = vertex.attrib['X']\n",
    "                                coords[i][1] = vertex.attrib['Y']        \n",
    "                            regions.append(coords)\n",
    "                            poly = Polygon(regions[0])  \n",
    "\n",
    "                            vertex_row_coords = regions[0][:,0]\n",
    "                            vertex_col_coords = regions[0][:,1]\n",
    "                            fill_row_coords, fill_col_coords = draw.polygon(vertex_col_coords, vertex_row_coords, inst_map.shape)\n",
    "#                             binary_mask[fill_row_coords, fill_col_coords] = 255\n",
    "                            gt = gt + 1;\n",
    "                            type_map = np.copy(inst_map)\n",
    "                            # create instance map\n",
    "                            inst_map[fill_row_coords, fill_col_coords] = gt\n",
    "                            # create type map\n",
    "                            # TODO: get class_type\n",
    "                            type_map[fill_row_coords, fill_col_coords] = class_type\n",
    "                            # TODO: save the maps to matlab\n",
    "                            mask_path = sub_path+'/'+str(count)+'_mask.tif'\n",
    "                            cv2.imwrite(mask_path, binary_mask)"
   ]
  }
 ],
 "metadata": {
  "kernelspec": {
   "display_name": "Python 3 (ipykernel)",
   "language": "python",
   "name": "python3"
  },
  "language_info": {
   "codemirror_mode": {
    "name": "ipython",
    "version": 3
   },
   "file_extension": ".py",
   "mimetype": "text/x-python",
   "name": "python",
   "nbconvert_exporter": "python",
   "pygments_lexer": "ipython3",
   "version": "3.9.7"
  }
 },
 "nbformat": 4,
 "nbformat_minor": 5
}
